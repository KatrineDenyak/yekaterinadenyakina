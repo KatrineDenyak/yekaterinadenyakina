{
 "cells": [
  {
   "cell_type": "code",
   "execution_count": null,
   "id": "e42fcd5a",
   "metadata": {},
   "outputs": [],
   "source": [
    "import numpy as np\n",
    "import pandas as pd\n",
    "import seaborn as sns\n",
    "import matplotlib.pyplot as plt\n",
    "from pathlib import Path"
   ]
  },
  {
   "cell_type": "code",
   "execution_count": null,
   "id": "59a26dfb",
   "metadata": {},
   "outputs": [],
   "source": [
    # Dataset name
DATASETNAME = "player_stats.csv"

# Get the current working directory and set the correct file path
filepath = Path.cwd().parent / "Evaluating the Market Value of FIFA players using ML" / DATASETNAME

# Load the dataset
df = pd.read_csv(filepath, encoding='latin1')

# Display the dataframe
df
   ]
  },
  {
   "cell_type": "code",
   "execution_count": null,
   "id": "76949299",
   "metadata": {},
   "outputs": [],
   "source": [
    "dfColumnAnalysis = pd.DataFrame({\"columns\": df.columns,\n",
    "                                 \"data Type\": df.dtypes.values,\n",
    "                                 \"Total Count\": df.count().values,\n",
    "                                 \"Unique Count\": df.nunique().values\n",
    "                                })\n",
    "dfColumnAnalysis"
   ]
  },
  {
   "cell_type": "code",
   "execution_count": null,
   "id": "bb07ee23",
   "metadata": {},
   "outputs": [],
   "source": [
    "#numpy strings != python strings so they appear as objects\n",
    "#value needs to be converted to float\n",
    "df[\"value\"] = df[\"value\"].replace('[^\\d]', '', regex=True).astype(float)\n",
    "\n",
    "#strings cannot be used in regression based ml - transformation needed for \"country\" & \"club\" - one hot encoding?\n",
    "#for now, we will continue exploring, we will analyse these columns seperately from the integer based ones\n",
    "stringColumns = [\"player\",\"country\", \"club\"]\n",
    "df.dtypes"
   ]
  },
  {
   "cell_type": "code",
   "execution_count": null,
   "id": "f1469c37",
   "metadata": {},
   "outputs": [],
   "source": [
    "#marking column contains no values, double check this by checking entire df for null values:\n",
    "ContainsNullValues = df.isnull().values.any() \n",
    "print(\"does dataset contain null values: \", ContainsNullValues)\n",
    "if ContainsNullValues:\n",
    "    print(\"null values found in columns: \\n\", df.isnull().sum())"
   ]
  },
  {
   "cell_type": "code",
   "execution_count": null,
   "id": "4f135d8c",
   "metadata": {},
   "outputs": [],
   "source": [
    "#entire marking column is null - will need to be removed\n",
    "df = df.drop(\"marking\", axis=1)\n",
    "df.isnull().values.any() "
   ]
  },
  {
   "cell_type": "code",
   "execution_count": null,
   "id": "d7c913b8",
   "metadata": {},
   "outputs": [],
   "source": [
    "#player is our identifier, seeing that its unique count does not match the total count, implies there are duplicates\n",
    "ContainsDuplicates = df.duplicated().any() \n",
    "print(\"does dataset contain duplicate values: \", ContainsDuplicates)\n",
    "if ContainsDuplicates:\n",
    "    #set keep to false, so it flags all occurances of duplicated rows\n",
    "    print(\"total duplicates found:\", df.duplicated(keep=False).sum())\n",
    "    print(\"following rows were found to have duplicates:\\n\",df[df.duplicated(keep=False).values])\n",
    "    #we will keep the first occurances of these rows (keep=\"first\" by default)\n",
    "    df = df.drop_duplicates()\n",
    "\n",
    "#Check all changes\n",
    "dfColumnAnalysis = pd.DataFrame({\"columns\": df.columns,\n",
    "                                 \"data Type\": df.dtypes.values,\n",
    "                                 \"Total Count\": df.count().values,\n",
    "                                 \"Unique Count\": df.nunique().values\n",
    "                                })\n",
    "dfColumnAnalysis"
   ]
  },
  {
   "cell_type": "code",
   "execution_count": null,
   "id": "8938d8c7",
   "metadata": {},
   "outputs": [],
   "source": [
    "#unique player count still does not match actual player count - lets check duplicates in player column\n",
    "ContainsDuplicates = df.duplicated(subset=[\"player\"]).any() \n",
    "print(\"does dataset contain duplicate values: \", ContainsDuplicates)\n",
    "if ContainsDuplicates:\n",
    "    #set keep to false, so it flags all occurances of duplicated rows\n",
    "    print(\"total duplicates found:\", df.duplicated(keep=False,subset=[\"player\"]).sum())\n",
    "    print(\"following rows were found to have duplicates:\\n\",df[df.duplicated(keep=False,subset=[\"player\"]).values].sort_values(by=[\"player\"]))\n",
    "    #we will keep the first occurances of these rows (keep=\"first\" by default)\n",
    "    #df = df.drop_duplicates(subset=[\"player\"])"
   ]
  },
  {
   "cell_type": "code",
   "execution_count": null,
   "id": "09d283db",
   "metadata": {},
   "outputs": [],
   "source": [
    "#player names (& country) seem to be duplicated, data, possible that some of these are outdated data from prev version\n",
    "#all data is grabbed from the fifa Index - will need to check what to do with this - for now will ignore and continue\n",
    "\n",
    "#player column is no longer needed for analysis\n",
    "df = df.drop(\"player\", axis=1)\n",
    "stringColumns.remove(\"player\")\n",
    "\n",
    "XInts = df.drop(\"value\",axis=1).drop(stringColumns,axis=1)\n",
    "xStrings = df[stringColumns]\n",
    "Y = df[\"value\"]\n",
    "df"
   ]
  },
  {
   "cell_type": "code",
   "execution_count": null,
   "id": "96418265",
   "metadata": {},
   "outputs": [],
   "source": [
    "XInts\n"
   ]
  },
  {
   "cell_type": "code",
   "execution_count": null,
   "id": "adb928c7",
   "metadata": {},
   "outputs": [],
   "source": [
    "xStrings\n"
   ]
  },
  {
   "cell_type": "code",
   "execution_count": null,
   "id": "2bf37224",
   "metadata": {},
   "outputs": [],
   "source": [
    "Y"
   ]
  },
  {
   "cell_type": "code",
   "execution_count": null,
   "id": "583de5bb",
   "metadata": {
    "scrolled": false
   },
   "outputs": [],
   "source": [
    "\n",
    "print(\"analysing integer columns relationship with Value column\")\n",
    "index = 0\n",
    "print(len(XInts.columns))\n",
    "for c in XInts.columns: \n",
    "    #working on changing this line of best fit to curve of best fit\n",
    "    a, b = np.polyfit(XInts[c], Y, 1)\n",
    "    \n",
    "    \n",
    "    plt.figure(figsize=(10, 10))\n",
    "    scatter = plt.scatter(XInts[c], Y, alpha=0.2)\n",
    "    plt.plot(XInts[c], a*XInts[c]+b, label=c, color = \"orange\", linewidth=1)\n",
    "    plt.title(f'{c}\\'s relationship with value')\n",
    "    plt.legend()\n",
    "    plt.tight_layout()\n",
    "    plt.show()\n",
    "    print(f'{c}\\'s relationship with value')\n",
    "    index+=1\n",
    "    #if index >2:\n",
    "        #break\n"
   ]
  },
  {
   "cell_type": "code",
   "execution_count": null,
   "id": "d6ce7747",
   "metadata": {},
   "outputs": [],
   "source": [
    "# Calculate correlation matrix against value\n",
    "correlation_matrix_1 = df.drop([\"country\",\"club\"], axis=1).corr().loc[df.drop([\"country\",\"club\"],axis=1).columns, ['value']]\n",
    "\n",
    "# Create the heatmap\n",
    "plt.figure(figsize=(20, 20))\n",
    "sns.heatmap(correlation_matrix_1, annot=True, cmap='coolwarm', vmin=-1, vmax=1, square=True,\n",
    "            linewidths=.5, cbar_kws={\"shrink\": .5}, annot_kws={\"size\": 9})\n",
    "plt.title('Correlation Heatmap: Features vs. Value', fontsize=16)\n",
    "plt.xticks(fontsize=12)\n",
    "plt.yticks(fontsize=12)\n",
    "plt.show()\n",
    "\n",
    "# Calculate correlation matrix against every other feature\n",
    "correlation_matrix_2 = XInts.corr()\n",
    "\n",
    "# Create the first heatmap\n",
    "plt.figure(figsize=(40, 40))\n",
    "sns.heatmap(correlation_matrix_2, annot=False, cmap='coolwarm', vmin=-1, vmax=1, square=True,\n",
    "            linewidths=1.0, cbar_kws={\"shrink\": 1}, annot_kws={\"size\": 12})\n",
    "plt.title('Correlation Heatmap: Feature vs. Value', fontsize=36)\n",
    "plt.xticks(fontsize=24)\n",
    "plt.yticks(fontsize=24)\n",
    "plt.show()"
   ]
  },
  {
   "cell_type": "code",
   "execution_count": null,
   "id": "818bfd43",
   "metadata": {},
   "outputs": [],
   "source": [
    "# Box Plots\n",
    "for column in XInts.columns:\n",
    "    plt.figure(figsize=(8, 6))  \n",
    "    sns.boxplot(x=XInts[column])\n",
    "    plt.title(f'Box Plot of {column}')\n",
    "    plt.xlabel(f'{column} Value')\n",
    "    plt.show()"
   ]
  },
  {
   "cell_type": "code",
   "execution_count": null,
   "id": "0b8c80d5",
   "metadata": {},
   "outputs": [],
   "source": [
    "# Histograms\n",
    "for column in XInts.columns:\n",
    "    plt.figure(figsize=(8, 6))  # Adjust the figure size as needed\n",
    "    plt.hist(XInts[column], bins=20, color='skyblue', edgecolor='black')\n",
    "    plt.title(f'Histogram of {column}')\n",
    "    plt.xlabel(f'{column} Value')\n",
    "    plt.ylabel('Frequency')\n",
    "    plt.grid(True)\n",
    "    plt.show()"
   ]
  },
  {
   "cell_type": "code",
   "execution_count": null,
   "id": "b7a2fd65",
   "metadata": {},
   "outputs": [],
   "source": [
    "#Categorical summary statistics\n",
    "for column in xStrings.columns:\n",
    "    \n",
    "    # Group data by country and compute summary statistics\n",
    "    summary_stats = df.groupby(column)['value'].agg(['mean', 'median', 'std']).reset_index()\n",
    "\n",
    "    # Sort the summary statistics by mean player value and get top 50 for better visualization\n",
    "    summary_stats = summary_stats.sort_values(by='mean', ascending=False).head(50)\n",
    "\n",
    "    # Create a bar plot to visualize mean player value by category\n",
    "    plt.figure(figsize=(12, 8))\n",
    "    plt.bar(summary_stats[column], summary_stats['mean'], color='skyblue', label='Mean Value')\n",
    "    plt.errorbar(summary_stats[column], summary_stats['mean'], yerr=summary_stats['std'], fmt='o', color='red', label='Standard Deviation')\n",
    "    plt.xlabel(column)\n",
    "    plt.ylabel('Player Value')\n",
    "    plt.title(f'Mean Player Value by {column} with Standard Deviation')\n",
    "    plt.xticks(rotation=90)\n",
    "    plt.legend()\n",
    "    plt.tight_layout()\n",
    "\n",
    "    # Display the plot\n",
    "    plt.show()\n",
    "\n",
    "    # Display the summary statistics table\n",
    "    print(summary_stats)"
   ]
  }
 ],
 "metadata": {
  "kernelspec": {
   "display_name": "Python 3 (ipykernel)",
   "language": "python",
   "name": "python3"
  },
  "language_info": {
   "codemirror_mode": {
    "name": "ipython",
    "version": 3
   },
   "file_extension": ".py",
   "mimetype": "text/x-python",
   "name": "python",
   "nbconvert_exporter": "python",
   "pygments_lexer": "ipython3",
   "version": "3.11.5"
  }
 },
 "nbformat": 4,
 "nbformat_minor": 5
}
